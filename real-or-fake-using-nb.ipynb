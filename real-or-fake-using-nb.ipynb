{
 "cells": [
  {
   "cell_type": "code",
   "execution_count": 1,
   "id": "809198d0",
   "metadata": {
    "_cell_guid": "b1076dfc-b9ad-4769-8c92-a6c4dae69d19",
    "_uuid": "8f2839f25d086af736a60e9eeb907d3b93b6e0e5",
    "execution": {
     "iopub.execute_input": "2022-04-15T09:24:32.784501Z",
     "iopub.status.busy": "2022-04-15T09:24:32.783302Z",
     "iopub.status.idle": "2022-04-15T09:24:34.608656Z",
     "shell.execute_reply": "2022-04-15T09:24:34.609548Z",
     "shell.execute_reply.started": "2022-04-15T09:22:47.943106Z"
    },
    "papermill": {
     "duration": 1.861325,
     "end_time": "2022-04-15T09:24:34.609865",
     "exception": false,
     "start_time": "2022-04-15T09:24:32.748540",
     "status": "completed"
    },
    "tags": []
   },
   "outputs": [
    {
     "name": "stdout",
     "output_type": "stream",
     "text": [
      "/kaggle/input/fake-or-real-news/fake_or_real_news.csv\n"
     ]
    }
   ],
   "source": [
    "# This Python 3 environment comes with many helpful analytics libraries installed\n",
    "# It is defined by the kaggle/python Docker image: https://github.com/kaggle/docker-python\n",
    "# For example, here's several helpful packages to load\n",
    "\n",
    "import numpy as np # linear algebra\n",
    "import pandas as pd # data processing, CSV file I/O (e.g. pd.read_csv)\n",
    "import seaborn as sns\n",
    "import matplotlib.pyplot as plt\n",
    "import re\n",
    "import nltk \n",
    "from nltk.tokenize import word_tokenize\n",
    "from nltk.corpus import stopwords\n",
    "from nltk.stem import WordNetLemmatizer\n",
    "from sklearn.model_selection import train_test_split\n",
    "from sklearn.feature_extraction.text import TfidfVectorizer, CountVectorizer\n",
    "from sklearn.model_selection import train_test_split\n",
    "from sklearn.naive_bayes import MultinomialNB\n",
    "from sklearn.preprocessing import LabelEncoder\n",
    "from sklearn.metrics import confusion_matrix,classification_report\n",
    "# Input data files are available in the read-only \"../input/\" directory\n",
    "# For example, running this (by clicking run or pressing Shift+Enter) will list all files under the input directory\n",
    "\n",
    "import os\n",
    "for dirname, _, filenames in os.walk('/kaggle/input'):\n",
    "    for filename in filenames:\n",
    "        print(os.path.join(dirname, filename))\n",
    "\n",
    "# You can write up to 20GB to the current directory (/kaggle/working/) that gets preserved as output when you create a version using \"Save & Run All\" \n",
    "# You can also write temporary files to /kaggle/temp/, but they won't be saved outside of the current session"
   ]
  },
  {
   "cell_type": "code",
   "execution_count": 2,
   "id": "67fcd8ce",
   "metadata": {
    "execution": {
     "iopub.execute_input": "2022-04-15T09:24:34.679922Z",
     "iopub.status.busy": "2022-04-15T09:24:34.679185Z",
     "iopub.status.idle": "2022-04-15T09:24:35.449422Z",
     "shell.execute_reply": "2022-04-15T09:24:35.448848Z",
     "shell.execute_reply.started": "2022-04-15T09:02:53.792051Z"
    },
    "papermill": {
     "duration": 0.807135,
     "end_time": "2022-04-15T09:24:35.449583",
     "exception": false,
     "start_time": "2022-04-15T09:24:34.642448",
     "status": "completed"
    },
    "tags": []
   },
   "outputs": [
    {
     "data": {
      "text/html": [
       "<div>\n",
       "<style scoped>\n",
       "    .dataframe tbody tr th:only-of-type {\n",
       "        vertical-align: middle;\n",
       "    }\n",
       "\n",
       "    .dataframe tbody tr th {\n",
       "        vertical-align: top;\n",
       "    }\n",
       "\n",
       "    .dataframe thead th {\n",
       "        text-align: right;\n",
       "    }\n",
       "</style>\n",
       "<table border=\"1\" class=\"dataframe\">\n",
       "  <thead>\n",
       "    <tr style=\"text-align: right;\">\n",
       "      <th></th>\n",
       "      <th>Unnamed: 0</th>\n",
       "      <th>title</th>\n",
       "      <th>text</th>\n",
       "      <th>label</th>\n",
       "    </tr>\n",
       "  </thead>\n",
       "  <tbody>\n",
       "    <tr>\n",
       "      <th>0</th>\n",
       "      <td>8476</td>\n",
       "      <td>You Can Smell Hillary’s Fear</td>\n",
       "      <td>Daniel Greenfield, a Shillman Journalism Fello...</td>\n",
       "      <td>FAKE</td>\n",
       "    </tr>\n",
       "    <tr>\n",
       "      <th>1</th>\n",
       "      <td>10294</td>\n",
       "      <td>Watch The Exact Moment Paul Ryan Committed Pol...</td>\n",
       "      <td>Google Pinterest Digg Linkedin Reddit Stumbleu...</td>\n",
       "      <td>FAKE</td>\n",
       "    </tr>\n",
       "    <tr>\n",
       "      <th>2</th>\n",
       "      <td>3608</td>\n",
       "      <td>Kerry to go to Paris in gesture of sympathy</td>\n",
       "      <td>U.S. Secretary of State John F. Kerry said Mon...</td>\n",
       "      <td>REAL</td>\n",
       "    </tr>\n",
       "    <tr>\n",
       "      <th>3</th>\n",
       "      <td>10142</td>\n",
       "      <td>Bernie supporters on Twitter erupt in anger ag...</td>\n",
       "      <td>— Kaydee King (@KaydeeKing) November 9, 2016 T...</td>\n",
       "      <td>FAKE</td>\n",
       "    </tr>\n",
       "    <tr>\n",
       "      <th>4</th>\n",
       "      <td>875</td>\n",
       "      <td>The Battle of New York: Why This Primary Matters</td>\n",
       "      <td>It's primary day in New York and front-runners...</td>\n",
       "      <td>REAL</td>\n",
       "    </tr>\n",
       "  </tbody>\n",
       "</table>\n",
       "</div>"
      ],
      "text/plain": [
       "   Unnamed: 0                                              title  \\\n",
       "0        8476                       You Can Smell Hillary’s Fear   \n",
       "1       10294  Watch The Exact Moment Paul Ryan Committed Pol...   \n",
       "2        3608        Kerry to go to Paris in gesture of sympathy   \n",
       "3       10142  Bernie supporters on Twitter erupt in anger ag...   \n",
       "4         875   The Battle of New York: Why This Primary Matters   \n",
       "\n",
       "                                                text label  \n",
       "0  Daniel Greenfield, a Shillman Journalism Fello...  FAKE  \n",
       "1  Google Pinterest Digg Linkedin Reddit Stumbleu...  FAKE  \n",
       "2  U.S. Secretary of State John F. Kerry said Mon...  REAL  \n",
       "3  — Kaydee King (@KaydeeKing) November 9, 2016 T...  FAKE  \n",
       "4  It's primary day in New York and front-runners...  REAL  "
      ]
     },
     "execution_count": 2,
     "metadata": {},
     "output_type": "execute_result"
    }
   ],
   "source": [
    "news = pd.read_csv(r'/kaggle/input/fake-or-real-news/fake_or_real_news.csv')\n",
    "news.head()"
   ]
  },
  {
   "cell_type": "code",
   "execution_count": 3,
   "id": "78c8f1f3",
   "metadata": {
    "execution": {
     "iopub.execute_input": "2022-04-15T09:24:35.528101Z",
     "iopub.status.busy": "2022-04-15T09:24:35.527453Z",
     "iopub.status.idle": "2022-04-15T09:24:35.542837Z",
     "shell.execute_reply": "2022-04-15T09:24:35.543440Z",
     "shell.execute_reply.started": "2022-04-15T09:02:54.617693Z"
    },
    "papermill": {
     "duration": 0.06192,
     "end_time": "2022-04-15T09:24:35.543607",
     "exception": false,
     "start_time": "2022-04-15T09:24:35.481687",
     "status": "completed"
    },
    "tags": []
   },
   "outputs": [
    {
     "data": {
      "text/html": [
       "<div>\n",
       "<style scoped>\n",
       "    .dataframe tbody tr th:only-of-type {\n",
       "        vertical-align: middle;\n",
       "    }\n",
       "\n",
       "    .dataframe tbody tr th {\n",
       "        vertical-align: top;\n",
       "    }\n",
       "\n",
       "    .dataframe thead th {\n",
       "        text-align: right;\n",
       "    }\n",
       "</style>\n",
       "<table border=\"1\" class=\"dataframe\">\n",
       "  <thead>\n",
       "    <tr style=\"text-align: right;\">\n",
       "      <th></th>\n",
       "      <th>count</th>\n",
       "      <th>mean</th>\n",
       "      <th>std</th>\n",
       "      <th>min</th>\n",
       "      <th>25%</th>\n",
       "      <th>50%</th>\n",
       "      <th>75%</th>\n",
       "      <th>max</th>\n",
       "    </tr>\n",
       "  </thead>\n",
       "  <tbody>\n",
       "    <tr>\n",
       "      <th>Unnamed: 0</th>\n",
       "      <td>6335.0</td>\n",
       "      <td>5280.415627</td>\n",
       "      <td>3038.503953</td>\n",
       "      <td>2.0</td>\n",
       "      <td>2674.5</td>\n",
       "      <td>5271.0</td>\n",
       "      <td>7901.0</td>\n",
       "      <td>10557.0</td>\n",
       "    </tr>\n",
       "  </tbody>\n",
       "</table>\n",
       "</div>"
      ],
      "text/plain": [
       "             count         mean          std  min     25%     50%     75%  \\\n",
       "Unnamed: 0  6335.0  5280.415627  3038.503953  2.0  2674.5  5271.0  7901.0   \n",
       "\n",
       "                max  \n",
       "Unnamed: 0  10557.0  "
      ]
     },
     "execution_count": 3,
     "metadata": {},
     "output_type": "execute_result"
    }
   ],
   "source": [
    "news.describe().T\n"
   ]
  },
  {
   "cell_type": "code",
   "execution_count": 4,
   "id": "163c55b5",
   "metadata": {
    "execution": {
     "iopub.execute_input": "2022-04-15T09:24:35.610022Z",
     "iopub.status.busy": "2022-04-15T09:24:35.609415Z",
     "iopub.status.idle": "2022-04-15T09:24:35.616576Z",
     "shell.execute_reply": "2022-04-15T09:24:35.617192Z",
     "shell.execute_reply.started": "2022-04-15T09:02:54.650214Z"
    },
    "papermill": {
     "duration": 0.042129,
     "end_time": "2022-04-15T09:24:35.617380",
     "exception": false,
     "start_time": "2022-04-15T09:24:35.575251",
     "status": "completed"
    },
    "tags": []
   },
   "outputs": [
    {
     "data": {
      "text/plain": [
       "REAL    3171\n",
       "FAKE    3164\n",
       "Name: label, dtype: int64"
      ]
     },
     "execution_count": 4,
     "metadata": {},
     "output_type": "execute_result"
    }
   ],
   "source": [
    "news['label'].value_counts()"
   ]
  },
  {
   "cell_type": "code",
   "execution_count": 5,
   "id": "dc30e9ea",
   "metadata": {
    "execution": {
     "iopub.execute_input": "2022-04-15T09:24:35.688977Z",
     "iopub.status.busy": "2022-04-15T09:24:35.688333Z",
     "iopub.status.idle": "2022-04-15T09:24:35.841291Z",
     "shell.execute_reply": "2022-04-15T09:24:35.841824Z",
     "shell.execute_reply.started": "2022-04-15T09:02:54.659225Z"
    },
    "papermill": {
     "duration": 0.188116,
     "end_time": "2022-04-15T09:24:35.842002",
     "exception": false,
     "start_time": "2022-04-15T09:24:35.653886",
     "status": "completed"
    },
    "tags": []
   },
   "outputs": [
    {
     "name": "stdout",
     "output_type": "stream",
     "text": [
      "Check the data N/A values, duplicate and missing values\n",
      "N/A values -: Unnamed: 0    0\n",
      "title         0\n",
      "text          0\n",
      "label         0\n",
      "dtype: int64\n",
      "Duplicates -:  0\n",
      "<class 'pandas.core.frame.DataFrame'>\n",
      "RangeIndex: 6335 entries, 0 to 6334\n",
      "Data columns (total 4 columns):\n",
      " #   Column      Non-Null Count  Dtype \n",
      "---  ------      --------------  ----- \n",
      " 0   Unnamed: 0  6335 non-null   int64 \n",
      " 1   title       6335 non-null   object\n",
      " 2   text        6335 non-null   object\n",
      " 3   label       6335 non-null   object\n",
      "dtypes: int64(1), object(3)\n",
      "memory usage: 198.1+ KB\n"
     ]
    }
   ],
   "source": [
    "def clean_check():\n",
    "    print('Check the data N/A values, duplicate and missing values')\n",
    "    print(\"N/A values -:\",news.isna().sum())\n",
    "    print('Duplicates -: ',news.duplicated().sum())\n",
    "    news.info()\n",
    "    \n",
    "clean_check()"
   ]
  },
  {
   "cell_type": "markdown",
   "id": "336bc5d0",
   "metadata": {
    "papermill": {
     "duration": 0.032941,
     "end_time": "2022-04-15T09:24:35.908110",
     "exception": false,
     "start_time": "2022-04-15T09:24:35.875169",
     "status": "completed"
    },
    "tags": []
   },
   "source": [
    "**OBSERVATION**\n",
    "\n",
    "1.From above observation we can conclude that there are no duplicated values, no missing values and nor N/A values too.\n",
    "\n",
    "So there is no need to clean the data."
   ]
  },
  {
   "cell_type": "code",
   "execution_count": 6,
   "id": "0e5d9083",
   "metadata": {
    "execution": {
     "iopub.execute_input": "2022-04-15T09:24:35.979119Z",
     "iopub.status.busy": "2022-04-15T09:24:35.978497Z",
     "iopub.status.idle": "2022-04-15T09:24:35.982046Z",
     "shell.execute_reply": "2022-04-15T09:24:35.982607Z",
     "shell.execute_reply.started": "2022-04-15T09:02:54.817810Z"
    },
    "papermill": {
     "duration": 0.04194,
     "end_time": "2022-04-15T09:24:35.982781",
     "exception": false,
     "start_time": "2022-04-15T09:24:35.940841",
     "status": "completed"
    },
    "tags": []
   },
   "outputs": [],
   "source": [
    "def data_visual(i):\n",
    "    return sns.countplot(x = 'label', data=i)"
   ]
  },
  {
   "cell_type": "code",
   "execution_count": 7,
   "id": "dcbc4cfe",
   "metadata": {
    "execution": {
     "iopub.execute_input": "2022-04-15T09:24:36.052110Z",
     "iopub.status.busy": "2022-04-15T09:24:36.051485Z",
     "iopub.status.idle": "2022-04-15T09:24:36.219055Z",
     "shell.execute_reply": "2022-04-15T09:24:36.219613Z",
     "shell.execute_reply.started": "2022-04-15T09:02:54.823997Z"
    },
    "papermill": {
     "duration": 0.203601,
     "end_time": "2022-04-15T09:24:36.219791",
     "exception": false,
     "start_time": "2022-04-15T09:24:36.016190",
     "status": "completed"
    },
    "tags": []
   },
   "outputs": [
    {
     "data": {
      "text/plain": [
       "<AxesSubplot:xlabel='label', ylabel='count'>"
      ]
     },
     "execution_count": 7,
     "metadata": {},
     "output_type": "execute_result"
    },
    {
     "data": {
      "image/png": "[encoded data removed]",
      "text/plain": [
       "<Figure size 432x288 with 1 Axes>"
      ]
     },
     "metadata": {
      "needs_background": "light"
     },
     "output_type": "display_data"
    }
   ],
   "source": [
    "data_visual(news)"
   ]
  },
  {
   "cell_type": "markdown",
   "id": "4da439c6",
   "metadata": {
    "papermill": {
     "duration": 0.033978,
     "end_time": "2022-04-15T09:24:36.288329",
     "exception": false,
     "start_time": "2022-04-15T09:24:36.254351",
     "status": "completed"
    },
    "tags": []
   },
   "source": [
    "Lets remove all irrelevant characters (numbers and punctuations"
   ]
  },
  {
   "cell_type": "code",
   "execution_count": 8,
   "id": "b54665bf",
   "metadata": {
    "execution": {
     "iopub.execute_input": "2022-04-15T09:24:36.362254Z",
     "iopub.status.busy": "2022-04-15T09:24:36.361227Z",
     "iopub.status.idle": "2022-04-15T09:24:36.363887Z",
     "shell.execute_reply": "2022-04-15T09:24:36.363256Z",
     "shell.execute_reply.started": "2022-04-15T09:02:55.045334Z"
    },
    "papermill": {
     "duration": 0.041029,
     "end_time": "2022-04-15T09:24:36.364028",
     "exception": false,
     "start_time": "2022-04-15T09:24:36.322999",
     "status": "completed"
    },
    "tags": []
   },
   "outputs": [],
   "source": [
    "def irrel(text):\n",
    "    return re.sub('[^a-zA-Z0-9]',' ',text)"
   ]
  },
  {
   "cell_type": "code",
   "execution_count": 9,
   "id": "37b058e5",
   "metadata": {
    "execution": {
     "iopub.execute_input": "2022-04-15T09:24:36.442477Z",
     "iopub.status.busy": "2022-04-15T09:24:36.441717Z",
     "iopub.status.idle": "2022-04-15T09:24:39.141228Z",
     "shell.execute_reply": "2022-04-15T09:24:39.140576Z",
     "shell.execute_reply.started": "2022-04-15T09:02:55.052951Z"
    },
    "papermill": {
     "duration": 2.743544,
     "end_time": "2022-04-15T09:24:39.141364",
     "exception": false,
     "start_time": "2022-04-15T09:24:36.397820",
     "status": "completed"
    },
    "tags": []
   },
   "outputs": [
    {
     "data": {
      "text/plain": [
       "0    Daniel Greenfield  a Shillman Journalism Fello...\n",
       "1    Google Pinterest Digg Linkedin Reddit Stumbleu...\n",
       "2    U S  Secretary of State John F  Kerry said Mon...\n",
       "3      Kaydee King   KaydeeKing  November 9  2016 T...\n",
       "4    It s primary day in New York and front runners...\n",
       "Name: text, dtype: object"
      ]
     },
     "execution_count": 9,
     "metadata": {},
     "output_type": "execute_result"
    }
   ],
   "source": [
    "news['text'] = news['text'].apply(irrel)\n",
    "news['text'].head()"
   ]
  },
  {
   "cell_type": "markdown",
   "id": "9b52d0cd",
   "metadata": {
    "papermill": {
     "duration": 0.035791,
     "end_time": "2022-04-15T09:24:39.211521",
     "exception": false,
     "start_time": "2022-04-15T09:24:39.175730",
     "status": "completed"
    },
    "tags": []
   },
   "source": [
    "Now converting all characters to lower case"
   ]
  },
  {
   "cell_type": "code",
   "execution_count": 10,
   "id": "0e676b7e",
   "metadata": {
    "execution": {
     "iopub.execute_input": "2022-04-15T09:24:39.286320Z",
     "iopub.status.busy": "2022-04-15T09:24:39.285614Z",
     "iopub.status.idle": "2022-04-15T09:24:39.289009Z",
     "shell.execute_reply": "2022-04-15T09:24:39.289526Z",
     "shell.execute_reply.started": "2022-04-15T09:02:57.739994Z"
    },
    "papermill": {
     "duration": 0.042792,
     "end_time": "2022-04-15T09:24:39.289695",
     "exception": false,
     "start_time": "2022-04-15T09:24:39.246903",
     "status": "completed"
    },
    "tags": []
   },
   "outputs": [],
   "source": [
    "def low_case(text):\n",
    "    return str(text).lower()"
   ]
  },
  {
   "cell_type": "code",
   "execution_count": 11,
   "id": "9f55894b",
   "metadata": {
    "execution": {
     "iopub.execute_input": "2022-04-15T09:24:39.364581Z",
     "iopub.status.busy": "2022-04-15T09:24:39.363902Z",
     "iopub.status.idle": "2022-04-15T09:24:39.400911Z",
     "shell.execute_reply": "2022-04-15T09:24:39.401438Z",
     "shell.execute_reply.started": "2022-04-15T09:02:57.745472Z"
    },
    "papermill": {
     "duration": 0.077037,
     "end_time": "2022-04-15T09:24:39.401610",
     "exception": false,
     "start_time": "2022-04-15T09:24:39.324573",
     "status": "completed"
    },
    "tags": []
   },
   "outputs": [
    {
     "data": {
      "text/plain": [
       "0    daniel greenfield  a shillman journalism fello...\n",
       "1    google pinterest digg linkedin reddit stumbleu...\n",
       "2    u s  secretary of state john f  kerry said mon...\n",
       "3      kaydee king   kaydeeking  november 9  2016 t...\n",
       "4    it s primary day in new york and front runners...\n",
       "Name: text, dtype: object"
      ]
     },
     "execution_count": 11,
     "metadata": {},
     "output_type": "execute_result"
    }
   ],
   "source": [
    "news['text'] = news['text'].apply(low_case)\n",
    "news['text'].head()"
   ]
  },
  {
   "cell_type": "markdown",
   "id": "b7b039d3",
   "metadata": {
    "papermill": {
     "duration": 0.034238,
     "end_time": "2022-04-15T09:24:39.470721",
     "exception": false,
     "start_time": "2022-04-15T09:24:39.436483",
     "status": "completed"
    },
    "tags": []
   },
   "source": [
    "Using Natural Language tool kit, tokenize the words"
   ]
  },
  {
   "cell_type": "code",
   "execution_count": 12,
   "id": "eb05f2b8",
   "metadata": {
    "execution": {
     "iopub.execute_input": "2022-04-15T09:24:39.544001Z",
     "iopub.status.busy": "2022-04-15T09:24:39.543369Z",
     "iopub.status.idle": "2022-04-15T09:24:39.546927Z",
     "shell.execute_reply": "2022-04-15T09:24:39.547536Z",
     "shell.execute_reply.started": "2022-04-15T09:02:57.798045Z"
    },
    "papermill": {
     "duration": 0.042393,
     "end_time": "2022-04-15T09:24:39.547704",
     "exception": false,
     "start_time": "2022-04-15T09:24:39.505311",
     "status": "completed"
    },
    "tags": []
   },
   "outputs": [],
   "source": [
    "def tok_wrd(text):\n",
    "    return word_tokenize(text)"
   ]
  },
  {
   "cell_type": "code",
   "execution_count": 13,
   "id": "22c1dfe2",
   "metadata": {
    "execution": {
     "iopub.execute_input": "2022-04-15T09:24:39.626253Z",
     "iopub.status.busy": "2022-04-15T09:24:39.623116Z",
     "iopub.status.idle": "2022-04-15T09:25:23.698414Z",
     "shell.execute_reply": "2022-04-15T09:25:23.698928Z",
     "shell.execute_reply.started": "2022-04-15T09:02:57.803999Z"
    },
    "papermill": {
     "duration": 44.115029,
     "end_time": "2022-04-15T09:25:23.699107",
     "exception": false,
     "start_time": "2022-04-15T09:24:39.584078",
     "status": "completed"
    },
    "tags": []
   },
   "outputs": [
    {
     "data": {
      "text/plain": [
       "0    [daniel, greenfield, a, shillman, journalism, ...\n",
       "1    [google, pinterest, digg, linkedin, reddit, st...\n",
       "2    [u, s, secretary, of, state, john, f, kerry, s...\n",
       "3    [kaydee, king, kaydeeking, november, 9, 2016, ...\n",
       "4    [it, s, primary, day, in, new, york, and, fron...\n",
       "Name: text, dtype: object"
      ]
     },
     "execution_count": 13,
     "metadata": {},
     "output_type": "execute_result"
    }
   ],
   "source": [
    "news['text'] = news['text'].apply(tok_wrd)\n",
    "news['text'].head()"
   ]
  },
  {
   "cell_type": "markdown",
   "id": "71f422be",
   "metadata": {
    "papermill": {
     "duration": 0.035632,
     "end_time": "2022-04-15T09:25:23.769538",
     "exception": false,
     "start_time": "2022-04-15T09:25:23.733906",
     "status": "completed"
    },
    "tags": []
   },
   "source": [
    "Now to remove stopwords i.e is, the, an, to "
   ]
  },
  {
   "cell_type": "code",
   "execution_count": 14,
   "id": "c447aa8f",
   "metadata": {
    "execution": {
     "iopub.execute_input": "2022-04-15T09:25:23.844651Z",
     "iopub.status.busy": "2022-04-15T09:25:23.843654Z",
     "iopub.status.idle": "2022-04-15T09:25:23.856041Z",
     "shell.execute_reply": "2022-04-15T09:25:23.856589Z",
     "shell.execute_reply.started": "2022-04-15T09:03:41.776851Z"
    },
    "papermill": {
     "duration": 0.051455,
     "end_time": "2022-04-15T09:25:23.856777",
     "exception": false,
     "start_time": "2022-04-15T09:25:23.805322",
     "status": "completed"
    },
    "tags": []
   },
   "outputs": [],
   "source": [
    "st_wrds = set(stopwords.words('english'))\n",
    "def stp_wrd(text):\n",
    "    return [item for item in text if item not in st_wrds]"
   ]
  },
  {
   "cell_type": "code",
   "execution_count": 15,
   "id": "d309c3ad",
   "metadata": {
    "execution": {
     "iopub.execute_input": "2022-04-15T09:25:23.955816Z",
     "iopub.status.busy": "2022-04-15T09:25:23.943813Z",
     "iopub.status.idle": "2022-04-15T09:25:24.733809Z",
     "shell.execute_reply": "2022-04-15T09:25:24.734337Z",
     "shell.execute_reply.started": "2022-04-15T09:03:41.788880Z"
    },
    "papermill": {
     "duration": 0.841291,
     "end_time": "2022-04-15T09:25:24.734538",
     "exception": false,
     "start_time": "2022-04-15T09:25:23.893247",
     "status": "completed"
    },
    "tags": []
   },
   "outputs": [
    {
     "data": {
      "text/plain": [
       "0    [daniel, greenfield, shillman, journalism, fel...\n",
       "1    [google, pinterest, digg, linkedin, reddit, st...\n",
       "2    [u, secretary, state, john, f, kerry, said, mo...\n",
       "3    [kaydee, king, kaydeeking, november, 9, 2016, ...\n",
       "4    [primary, day, new, york, front, runners, hill...\n",
       "Name: text, dtype: object"
      ]
     },
     "execution_count": 15,
     "metadata": {},
     "output_type": "execute_result"
    }
   ],
   "source": [
    "news['text'] = news['text'].apply(stp_wrd)\n",
    "news['text'].head()"
   ]
  },
  {
   "cell_type": "markdown",
   "id": "1d558f3b",
   "metadata": {
    "papermill": {
     "duration": 0.035128,
     "end_time": "2022-04-15T09:25:24.805072",
     "exception": false,
     "start_time": "2022-04-15T09:25:24.769944",
     "status": "completed"
    },
    "tags": []
   },
   "source": [
    "Lemmatizing the words so that we can get the exact meaningful word"
   ]
  },
  {
   "cell_type": "code",
   "execution_count": 16,
   "id": "050ce3af",
   "metadata": {
    "execution": {
     "iopub.execute_input": "2022-04-15T09:25:24.883827Z",
     "iopub.status.busy": "2022-04-15T09:25:24.883114Z",
     "iopub.status.idle": "2022-04-15T09:25:24.885625Z",
     "shell.execute_reply": "2022-04-15T09:25:24.886143Z",
     "shell.execute_reply.started": "2022-04-15T09:03:42.852384Z"
    },
    "papermill": {
     "duration": 0.045266,
     "end_time": "2022-04-15T09:25:24.886325",
     "exception": false,
     "start_time": "2022-04-15T09:25:24.841059",
     "status": "completed"
    },
    "tags": []
   },
   "outputs": [],
   "source": [
    "lemma = WordNetLemmatizer()\n",
    "def lem(text):\n",
    "    return [lemma.lemmatize(i, pos='v') for i in text]"
   ]
  },
  {
   "cell_type": "code",
   "execution_count": 17,
   "id": "6cc56bbd",
   "metadata": {
    "execution": {
     "iopub.execute_input": "2022-04-15T09:25:24.963418Z",
     "iopub.status.busy": "2022-04-15T09:25:24.962682Z",
     "iopub.status.idle": "2022-04-15T09:25:43.390316Z",
     "shell.execute_reply": "2022-04-15T09:25:43.389705Z",
     "shell.execute_reply.started": "2022-04-15T09:03:42.858913Z"
    },
    "papermill": {
     "duration": 18.468049,
     "end_time": "2022-04-15T09:25:43.390476",
     "exception": false,
     "start_time": "2022-04-15T09:25:24.922427",
     "status": "completed"
    },
    "tags": []
   },
   "outputs": [
    {
     "data": {
      "text/plain": [
       "0    [daniel, greenfield, shillman, journalism, fel...\n",
       "1    [google, pinterest, digg, linkedin, reddit, st...\n",
       "2    [u, secretary, state, john, f, kerry, say, mon...\n",
       "3    [kaydee, king, kaydeeking, november, 9, 2016, ...\n",
       "4    [primary, day, new, york, front, runners, hill...\n",
       "Name: text, dtype: object"
      ]
     },
     "execution_count": 17,
     "metadata": {},
     "output_type": "execute_result"
    }
   ],
   "source": [
    "news['text'] = news['text'].apply(lem)\n",
    "news['text'].head()"
   ]
  },
  {
   "cell_type": "code",
   "execution_count": 18,
   "id": "42edfb51",
   "metadata": {
    "execution": {
     "iopub.execute_input": "2022-04-15T09:25:43.472181Z",
     "iopub.status.busy": "2022-04-15T09:25:43.471444Z",
     "iopub.status.idle": "2022-04-15T09:25:43.682962Z",
     "shell.execute_reply": "2022-04-15T09:25:43.682334Z",
     "shell.execute_reply.started": "2022-04-15T09:04:01.733243Z"
    },
    "papermill": {
     "duration": 0.255787,
     "end_time": "2022-04-15T09:25:43.683096",
     "exception": false,
     "start_time": "2022-04-15T09:25:43.427309",
     "status": "completed"
    },
    "tags": []
   },
   "outputs": [
    {
     "data": {
      "text/plain": [
       "['daniel greenfield shillman journalism fellow freedom center new york writer focus radical islam final stretch election hillary rodham clinton go war fbi word unprecedented throw around often election ought retire still unprecedented nominee major political party go war fbi exactly hillary people do coma patients wake watch hour cnn hospital bed would assume fbi director jam comey hillary opponent election fbi attack everyone obama cnn hillary people circulate letter attack comey currently media hit piece lambast target trump surprise clintons ally start run attack ads fbi fbi leadership warn entire leave wing establishment form lynch mob continue go hillary fbi credibility attack media democrats preemptively head result investigation clinton foundation hillary clinton covert struggle fbi agents obama doj people go explosively public new york time compare comey j edgar hoover bizarre headline jam comey role recall hoover fbi fairly practically admit front spout nonsense boston globe publish column call comey resignation outdo time editorial claim scandal really attack women jam carville appear msnbc remind everyone still alive insane accuse comey coordinate house republicans kgb think vast right wing conspiracy stretch countless media stories charge comey violate procedure know procedural violation email classify information store bathroom server senator harry reid send comey letter accuse violate hatch act hatch act nice idea much relevance age obama tenth amendment cable news spectrum quickly fill media hack glance wikipedia article hatch act table accuse fbi director one awkward conspiracies hillary ever jam comey really hurt hillary pick one hell strange way long ago democrats breathe sigh relief give hillary clinton pass prominent public statement really elect trump keep email scandal go trash investigation payroll house republicans kgb back play coy sudden development vladimir putin paul ryan talk take look anthony weiner computer either comey cunning fbi director ever live awkwardly try navigate political mess trap doj leadership whose political futures tie hillary victory bureau whose apolitical agents want allow job truly mysterious thing hillary associate decide go war respect federal agency americans like fbi hillary clinton enjoy 60 unfavorable rat interest question hillary old strategy lie deny fbi even criminal investigation underway instead associate insist security review fbi correct shrug old breezy denial approach give way savage assault fbi pretend nothing wrong bad strategy better one pick fight fbi lunatic clinton associate try claim fbi really kgb two possible explanations hillary clinton might arrogant enough lash fbi believe victory near kind hubris lead plan victory fireworks display could lead declare war fbi irritate final miles campaign explanation people panic go war fbi behavior smart focus presidential campaign act desperation presidential candidate decide option try destroy credibility fbi hubris fear fbi might reveal original fbi investigation hillary clinton confident could ride good reason believe hillary clinton go place paranoid wreck within short space time positive clinton campaign promise unite country replace desperate flail operation focus energy fight fbi one reason bizarre behavior clinton campaign decide fbi investigation latest batch email pose threat survival go fight fbi unprecedented step bear fear hard know whether fear justify existence fear already tell us whole lot clinton loyalists rig old investigation know outcome ahead time well know debate question suddenly longer control afraid smell fear fbi wiretap investigation clinton foundation find new email time clintonworld panic spinmeisters clintonworld claim email scandal much smoke without fire appearance impropriety without substance react smoke respond fire misguide assault fbi tell us hillary clinton ally afraid revelation bigger fundamental illegality email setup email setup preemptive cover clinton campaign panic badly belief right wrong whatever crime illegal setup mean cover risk expose clintons weather countless scandals years whatever protect time around bigger usual corruption bribery sexual assault abuse power follow around throughout years bigger damage allegations already come want fbi investigators anywhere near campaign comey pure intimidation also warn senior fbi people value career warn stay away democrats close rank around nominee fbi ugly unprecedented scene may also last stand hillary clinton awkwardly wind way numerous scandals election cycle never show fear desperation change whatever afraid lie bury email huma abedin bring like nothing else',\n",
       " 'google pinterest digg linkedin reddit stumbleupon print delicious pocket tumblr two fundamental truths world paul ryan desperately want president paul ryan never president today prove particularly stagger example political cowardice paul ryan reverse course announce back trump train aboutface weeks ago previously declare would support defend trump tape make public trump brag assault women suddenly ryan appear pro trump rally boldly declare already send vote make president unite state surreal moment figurehead republican party dose gasoline get stage chilly afternoon wisconsin light match speakerryan say vote realdonaldtrump republicans time come home https co vytt49yvoe pic twitter com wcvscg4a5i abc news politics abcpolitics november 5 2016 democratic party ask better moment film ryan chance ever become president go zero instant wreckage trump leave behind wake cravenly back campaign recover ryan career manage limp way 2020 dnc tape lock load use every ad election day ring endorsement man clearly hat personal level speak volumes spinelessness ryan posture principled conservative one uncomfortable trump unapologetic bigotry sexism however push come shove paul ryan like many colleagues turn snivel appeaser lofty tak conviction principles house card collapse slightest breeze especially bizarre close ryan come make unscathed months speaker house refuse comment trump strategy seem keep head pretend trump exist hope nobody remember happen 2016 days away election screw 2016 ugly election do good expose utter cowardice republicans feign moral courage reality television star spit hijack party insult wive get every last one kneel turn events feature image via twitter',\n",
       " 'u secretary state john f kerry say monday stop paris later week amid criticism top american officials attend sunday unity march terrorism kerry say expect arrive paris thursday even head home week abroad say fly france conclusion series meet schedule thursday sofia bulgaria plan meet next day foreign minister laurent fabius president francois hollande return washington visit kerry family childhood tie country speak fluent french could address criticism unite state snub france darkest hour many years french press monday fill question neither president obama kerry attend sunday march 40 leaders nations obama say stay away security need tax country kerry prior commitments among roughly 40 leaders attend israeli prime minister benjamin netanyahu stranger intense security march beside hollande city streets highest rank u officials attend march jane hartley ambassador france victoria nuland assistant secretary state european affairs attorney general eric h holder jr paris meet law enforcement officials participate march kerry spend sunday business summit host india prime minister narendra modi unite state eager india relax stringent laws function barriers foreign investment hop modi government act open huge indian market american businesses news conference kerry brush aside criticism unite state send senior official paris quibble little bite note many staffers american embassy paris attend march include ambassador say want present march could prior commitments india go way home make crystal clear passionately feel events take place say think people france doubt america understand happen personal sense loss deep commitment people france moment trauma',\n",
       " 'kaydee king kaydeeking november 9 2016 lesson tonight dem losses time democrats start listen voters stop run establishment candidates people bernie people4bernie november 9 2016 dems want tight race work bernie walker bragman walkerbragman november 9 2016 new york time columnist paul krugman one hillary clinton outspoken surrogates contentious democratic primary blame clinton poor performance green party candidate jill stein far receive negligible number vote nationally say stein ralph nader 2016 prevent clinton victory account berniesteachers throw krugman analysis back face candidate issue take responsibility https co khyouusrfs teachers bernie berniesteachers november 9 2016 ana navarro republican recently endorse hillary clinton sum preposterous nature 2016 presidential election tweet gop nominate damn candidate could lose hillary clinton democrats nominate damn candidate could lose trump ana navarro ananavarro november 9 2016 popular leave wing facebook page 98 pro sanders primary respond trump surge simply post meme sanders face text could avoid thank nothing dnc meme share almost 15 000 time less hour post 98 tuesday november 8 2016 bernie sanders endorse hillary clinton democratic national convention july many supporters remain adamant refusal support dnc anoint candidate point wikileaks revelations top officials dnc work behind scenes tip scale clinton favor coordinate media figure circulate anti sanders narratives rather attribute potential trump presidency gop nominee perceive popularity among voters closeness election could credit hillary clinton unfavorable rat accord realclearpolitics anywhere 51 57 percent voters negative opinion democratic nominee 11 pm eastern florida michigan pennsylvania wisconsin remain close call clinton 197 electoral vote trump 187 zach cartwright activist author richmond virginia enjoy write politics government media send email email protect',\n",
       " 'primary day new york front runners hillary clinton donald trump lead poll trump vow win enough delegate clinch republican nomination prevent contest convention sens ted cruz r texas bernie sanders vt ohio gov john kasich give yet big win new york could tip scale republican democratic front runners year race white house clinton trump suffer losses recent contest shift momentum rival eight last nine caucus primaries cheer sanders recently tell supporters win new york trump clinton expect margins victories also important trump need capture 50 percent vote statewide want position win state 95 gop delegate would put one step closer avoid contest convention get vote know cruz way way poll trump urge supporters meanwhile sanders hop close race empire state loss 10 point mean need win 80 percent remain delegate clinch nomination despite predict loss new york cruz lose momentum hop sweep delegate weekend talk win november nominee win general election cruz promise supporters beat hillary key swing state beat hillary independents beat hillary young people cruz kasich sanders move new york state trump clinton two stay home state watch result come']"
      ]
     },
     "execution_count": 18,
     "metadata": {},
     "output_type": "execute_result"
    }
   ],
   "source": [
    "corpus = []\n",
    "\n",
    "for i in news['text']:\n",
    "    txt = ' '.join([row for row in i])\n",
    "    corpus.append(txt)\n",
    "corpus[:5]"
   ]
  },
  {
   "cell_type": "code",
   "execution_count": 19,
   "id": "fa0ff40a",
   "metadata": {
    "execution": {
     "iopub.execute_input": "2022-04-15T09:25:43.759134Z",
     "iopub.status.busy": "2022-04-15T09:25:43.758497Z",
     "iopub.status.idle": "2022-04-15T09:25:50.142891Z",
     "shell.execute_reply": "2022-04-15T09:25:50.142387Z",
     "shell.execute_reply.started": "2022-04-15T09:04:01.953701Z"
    },
    "papermill": {
     "duration": 6.423535,
     "end_time": "2022-04-15T09:25:50.143030",
     "exception": false,
     "start_time": "2022-04-15T09:25:43.719495",
     "status": "completed"
    },
    "tags": []
   },
   "outputs": [
    {
     "data": {
      "text/plain": [
       "(6335, 56194)"
      ]
     },
     "execution_count": 19,
     "metadata": {},
     "output_type": "execute_result"
    }
   ],
   "source": [
    "tf = TfidfVectorizer()\n",
    "x_fit = tf.fit_transform(corpus).toarray()\n",
    "x_fit.shape"
   ]
  },
  {
   "cell_type": "code",
   "execution_count": 20,
   "id": "eba3a9c2",
   "metadata": {
    "execution": {
     "iopub.execute_input": "2022-04-15T09:25:50.219574Z",
     "iopub.status.busy": "2022-04-15T09:25:50.218912Z",
     "iopub.status.idle": "2022-04-15T09:25:50.229127Z",
     "shell.execute_reply": "2022-04-15T09:25:50.229848Z",
     "shell.execute_reply.started": "2022-04-15T09:04:08.528407Z"
    },
    "papermill": {
     "duration": 0.050157,
     "end_time": "2022-04-15T09:25:50.230042",
     "exception": false,
     "start_time": "2022-04-15T09:25:50.179885",
     "status": "completed"
    },
    "tags": []
   },
   "outputs": [
    {
     "data": {
      "text/plain": [
       "0       0\n",
       "1       0\n",
       "2       1\n",
       "3       0\n",
       "4       1\n",
       "       ..\n",
       "6330    1\n",
       "6331    0\n",
       "6332    0\n",
       "6333    1\n",
       "6334    1\n",
       "Name: label, Length: 6335, dtype: int64"
      ]
     },
     "execution_count": 20,
     "metadata": {},
     "output_type": "execute_result"
    }
   ],
   "source": [
    "label_enc = LabelEncoder()\n",
    "news['label'] = label_enc.fit_transform(news['label'])\n",
    "news['label']"
   ]
  },
  {
   "cell_type": "code",
   "execution_count": 21,
   "id": "e4b10d80",
   "metadata": {
    "execution": {
     "iopub.execute_input": "2022-04-15T09:25:50.310501Z",
     "iopub.status.busy": "2022-04-15T09:25:50.309849Z",
     "iopub.status.idle": "2022-04-15T09:25:50.315316Z",
     "shell.execute_reply": "2022-04-15T09:25:50.315895Z",
     "shell.execute_reply.started": "2022-04-15T09:04:08.546539Z"
    },
    "papermill": {
     "duration": 0.047533,
     "end_time": "2022-04-15T09:25:50.316055",
     "exception": false,
     "start_time": "2022-04-15T09:25:50.268522",
     "status": "completed"
    },
    "tags": []
   },
   "outputs": [
    {
     "data": {
      "text/plain": [
       "((6335, 56194), (6335,))"
      ]
     },
     "execution_count": 21,
     "metadata": {},
     "output_type": "execute_result"
    }
   ],
   "source": [
    "x = x_fit\n",
    "y = news['label']\n",
    "\n",
    "x.shape, y.shape"
   ]
  },
  {
   "cell_type": "code",
   "execution_count": 22,
   "id": "e7b7000b",
   "metadata": {
    "execution": {
     "iopub.execute_input": "2022-04-15T09:25:50.394580Z",
     "iopub.status.busy": "2022-04-15T09:25:50.393964Z",
     "iopub.status.idle": "2022-04-15T09:25:51.733567Z",
     "shell.execute_reply": "2022-04-15T09:25:51.734105Z",
     "shell.execute_reply.started": "2022-04-15T09:04:08.559789Z"
    },
    "papermill": {
     "duration": 1.380479,
     "end_time": "2022-04-15T09:25:51.734334",
     "exception": false,
     "start_time": "2022-04-15T09:25:50.353855",
     "status": "completed"
    },
    "tags": []
   },
   "outputs": [],
   "source": [
    "X_train, X_test, y_train, y_test = train_test_split(x, y, test_size=0.3, random_state=53)"
   ]
  },
  {
   "cell_type": "markdown",
   "id": "5d140a28",
   "metadata": {
    "papermill": {
     "duration": 0.037905,
     "end_time": "2022-04-15T09:25:51.810329",
     "exception": false,
     "start_time": "2022-04-15T09:25:51.772424",
     "status": "completed"
    },
    "tags": []
   },
   "source": [
    "TO train a ML model on the data, we need to convert these words in numbers"
   ]
  },
  {
   "cell_type": "code",
   "execution_count": 23,
   "id": "053ee9b5",
   "metadata": {
    "execution": {
     "iopub.execute_input": "2022-04-15T09:25:51.889078Z",
     "iopub.status.busy": "2022-04-15T09:25:51.888443Z",
     "iopub.status.idle": "2022-04-15T09:25:52.526067Z",
     "shell.execute_reply": "2022-04-15T09:25:52.527092Z",
     "shell.execute_reply.started": "2022-04-15T09:20:52.420175Z"
    },
    "papermill": {
     "duration": 0.679295,
     "end_time": "2022-04-15T09:25:52.527388",
     "exception": false,
     "start_time": "2022-04-15T09:25:51.848093",
     "status": "completed"
    },
    "tags": []
   },
   "outputs": [
    {
     "data": {
      "text/plain": [
       "MultinomialNB()"
      ]
     },
     "execution_count": 23,
     "metadata": {},
     "output_type": "execute_result"
    }
   ],
   "source": [
    "nb = MultinomialNB()\n",
    "nb.fit(X_train,y_train)\n",
    "# nb.score(X_train, y_train),nb.score(X_test, y_test)"
   ]
  },
  {
   "cell_type": "code",
   "execution_count": 24,
   "id": "f9b92dde",
   "metadata": {
    "execution": {
     "iopub.execute_input": "2022-04-15T09:25:52.657970Z",
     "iopub.status.busy": "2022-04-15T09:25:52.656780Z",
     "iopub.status.idle": "2022-04-15T09:25:52.814708Z",
     "shell.execute_reply": "2022-04-15T09:25:52.815637Z",
     "shell.execute_reply.started": "2022-04-15T09:21:19.365368Z"
    },
    "papermill": {
     "duration": 0.217485,
     "end_time": "2022-04-15T09:25:52.815921",
     "exception": false,
     "start_time": "2022-04-15T09:25:52.598436",
     "status": "completed"
    },
    "tags": []
   },
   "outputs": [],
   "source": [
    "y_pred = nb.predict(X_test)"
   ]
  },
  {
   "cell_type": "code",
   "execution_count": 25,
   "id": "4840fb62",
   "metadata": {
    "execution": {
     "iopub.execute_input": "2022-04-15T09:25:52.952317Z",
     "iopub.status.busy": "2022-04-15T09:25:52.949125Z",
     "iopub.status.idle": "2022-04-15T09:25:53.105005Z",
     "shell.execute_reply": "2022-04-15T09:25:53.105540Z",
     "shell.execute_reply.started": "2022-04-15T09:22:53.945699Z"
    },
    "papermill": {
     "duration": 0.216273,
     "end_time": "2022-04-15T09:25:53.105717",
     "exception": false,
     "start_time": "2022-04-15T09:25:52.889444",
     "status": "completed"
    },
    "tags": []
   },
   "outputs": [
    {
     "data": {
      "image/png": "[encoded data removed]",
      "text/plain": [
       "<Figure size 432x288 with 2 Axes>"
      ]
     },
     "metadata": {
      "needs_background": "light"
     },
     "output_type": "display_data"
    }
   ],
   "source": [
    "cm= confusion_matrix(y_test,y_pred)\n",
    "sns.heatmap(cm,annot=True)\n",
    "plt.show()"
   ]
  },
  {
   "cell_type": "code",
   "execution_count": 26,
   "id": "90ffd247",
   "metadata": {
    "execution": {
     "iopub.execute_input": "2022-04-15T09:25:53.187093Z",
     "iopub.status.busy": "2022-04-15T09:25:53.186141Z",
     "iopub.status.idle": "2022-04-15T09:25:53.198049Z",
     "shell.execute_reply": "2022-04-15T09:25:53.198571Z",
     "shell.execute_reply.started": "2022-04-15T09:23:32.296193Z"
    },
    "papermill": {
     "duration": 0.054164,
     "end_time": "2022-04-15T09:25:53.198741",
     "exception": false,
     "start_time": "2022-04-15T09:25:53.144577",
     "status": "completed"
    },
    "tags": []
   },
   "outputs": [
    {
     "name": "stdout",
     "output_type": "stream",
     "text": [
      "              precision    recall  f1-score   support\n",
      "\n",
      "           0       0.97      0.73      0.84       913\n",
      "           1       0.80      0.98      0.88       988\n",
      "\n",
      "    accuracy                           0.86      1901\n",
      "   macro avg       0.89      0.86      0.86      1901\n",
      "weighted avg       0.88      0.86      0.86      1901\n",
      "\n"
     ]
    }
   ],
   "source": [
    "print(classification_report(y_test,y_pred))"
   ]
  }
 ],
 "metadata": {
  "kernelspec": {
   "display_name": "Python 3",
   "language": "python",
   "name": "python3"
  },
  "language_info": {
   "codemirror_mode": {
    "name": "ipython",
    "version": 3
   },
   "file_extension": ".py",
   "mimetype": "text/x-python",
   "name": "python",
   "nbconvert_exporter": "python",
   "pygments_lexer": "ipython3",
   "version": "3.7.12"
  },
  "papermill": {
   "default_parameters": {},
   "duration": 91.978947,
   "end_time": "2022-04-15T09:25:54.551178",
   "environment_variables": {},
   "exception": null,
   "input_path": "__notebook__.ipynb",
   "output_path": "__notebook__.ipynb",
   "parameters": {},
   "start_time": "2022-04-15T09:24:22.572231",
   "version": "2.3.3"
  }
 },
 "nbformat": 4,
 "nbformat_minor": 5
}
